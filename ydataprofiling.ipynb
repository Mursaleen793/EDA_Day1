{
 "cells": [
  {
   "cell_type": "markdown",
   "metadata": {},
   "source": [
    "# Dated : 7th november 2023 \n",
    "# Automatic `ydata_profiling`\n",
    " \n"
   ]
  },
  {
   "cell_type": "code",
   "execution_count": 1,
   "metadata": {},
   "outputs": [
    {
     "name": "stderr",
     "output_type": "stream",
     "text": [
      "c:\\Users\\Hp\\anaconda3\\envs\\ydata_profiling\\lib\\site-packages\\tqdm\\auto.py:21: TqdmWarning: IProgress not found. Please update jupyter and ipywidgets. See https://ipywidgets.readthedocs.io/en/stable/user_install.html\n",
      "  from .autonotebook import tqdm as notebook_tqdm\n"
     ]
    }
   ],
   "source": [
    "#importing libraries \n",
    "import pandas as pd\n",
    "import seaborn as sns\n",
    "import ydata_profiling as yd"
   ]
  },
  {
   "cell_type": "code",
   "execution_count": 2,
   "metadata": {},
   "outputs": [],
   "source": [
    "df= sns.load_dataset('titanic')"
   ]
  },
  {
   "cell_type": "code",
   "execution_count": 4,
   "metadata": {},
   "outputs": [
    {
     "name": "stderr",
     "output_type": "stream",
     "text": [
      "Summarize dataset: 100%|██████████| 41/41 [00:15<00:00,  2.66it/s, Completed]                    \n",
      "Generate report structure: 100%|██████████| 1/1 [00:32<00:00, 32.12s/it]\n",
      "Render HTML: 100%|██████████| 1/1 [00:03<00:00,  3.96s/it]\n",
      "Export report to file: 100%|██████████| 1/1 [00:00<00:00, 73.98it/s]\n"
     ]
    }
   ],
   "source": [
    "#ydata_profiling    \n",
    "profile = yd.ProfileReport(df)\n",
    "profile.to_file(output_file=\"df.html\")"
   ]
  },
  {
   "cell_type": "markdown",
   "metadata": {},
   "source": [
    "# DO it on Pakistani Population dataset "
   ]
  },
  {
   "cell_type": "code",
   "execution_count": 5,
   "metadata": {},
   "outputs": [],
   "source": [
    "df_pop=pd.read_csv('data.csv')"
   ]
  },
  {
   "cell_type": "code",
   "execution_count": 6,
   "metadata": {},
   "outputs": [
    {
     "name": "stderr",
     "output_type": "stream",
     "text": [
      "Summarize dataset: 100%|██████████| 319/319 [02:37<00:00,  2.03it/s, Completed]                                                     \n",
      "Generate report structure: 100%|██████████| 1/1 [00:37<00:00, 37.82s/it]\n",
      "Render HTML: 100%|██████████| 1/1 [00:30<00:00, 30.52s/it]\n",
      "Export report to file: 100%|██████████| 1/1 [00:00<00:00,  1.89it/s]\n"
     ]
    }
   ],
   "source": [
    "profile = yd.ProfileReport(df_pop)\n",
    "profile.to_file(output_file=\"df_pop.html\")"
   ]
  },
  {
   "cell_type": "code",
   "execution_count": null,
   "metadata": {},
   "outputs": [],
   "source": []
  }
 ],
 "metadata": {
  "kernelspec": {
   "display_name": "ml_env",
   "language": "python",
   "name": "python3"
  },
  "language_info": {
   "codemirror_mode": {
    "name": "ipython",
    "version": 3
   },
   "file_extension": ".py",
   "mimetype": "text/x-python",
   "name": "python",
   "nbconvert_exporter": "python",
   "pygments_lexer": "ipython3",
   "version": "3.10.0"
  }
 },
 "nbformat": 4,
 "nbformat_minor": 2
}
